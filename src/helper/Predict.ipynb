{
 "cells": [
  {
   "cell_type": "code",
   "execution_count": 63,
   "metadata": {},
   "outputs": [],
   "source": [
    "import numpy as np\n",
    "import matplotlib.pyplot as plt\n",
    "import pandas as pd \n",
    "\n",
    "FEATURES = [\"Open\", \"High\", \"Low\", \"Last\", \"Close\"]\n",
    "TIME_SIZE = 60\n",
    "FEATURE_SIZE = len(FEATURES)"
   ]
  },
  {
   "cell_type": "markdown",
   "metadata": {},
   "source": [
    "Loading data"
   ]
  },
  {
   "cell_type": "code",
   "execution_count": 64,
   "metadata": {},
   "outputs": [
    {
     "data": {
      "text/html": [
       "<div>\n",
       "<style scoped>\n",
       "    .dataframe tbody tr th:only-of-type {\n",
       "        vertical-align: middle;\n",
       "    }\n",
       "\n",
       "    .dataframe tbody tr th {\n",
       "        vertical-align: top;\n",
       "    }\n",
       "\n",
       "    .dataframe thead th {\n",
       "        text-align: right;\n",
       "    }\n",
       "</style>\n",
       "<table border=\"1\" class=\"dataframe\">\n",
       "  <thead>\n",
       "    <tr style=\"text-align: right;\">\n",
       "      <th></th>\n",
       "      <th>Date</th>\n",
       "      <th>Open</th>\n",
       "      <th>High</th>\n",
       "      <th>Low</th>\n",
       "      <th>Last</th>\n",
       "      <th>Close</th>\n",
       "      <th>Total Trade Quantity</th>\n",
       "      <th>Turnover (Lacs)</th>\n",
       "    </tr>\n",
       "  </thead>\n",
       "  <tbody>\n",
       "    <tr>\n",
       "      <th>0</th>\n",
       "      <td>2018-09-28</td>\n",
       "      <td>234.05</td>\n",
       "      <td>235.95</td>\n",
       "      <td>230.20</td>\n",
       "      <td>233.50</td>\n",
       "      <td>233.75</td>\n",
       "      <td>3069914</td>\n",
       "      <td>7162.35</td>\n",
       "    </tr>\n",
       "    <tr>\n",
       "      <th>1</th>\n",
       "      <td>2018-09-27</td>\n",
       "      <td>234.55</td>\n",
       "      <td>236.80</td>\n",
       "      <td>231.10</td>\n",
       "      <td>233.80</td>\n",
       "      <td>233.25</td>\n",
       "      <td>5082859</td>\n",
       "      <td>11859.95</td>\n",
       "    </tr>\n",
       "    <tr>\n",
       "      <th>2</th>\n",
       "      <td>2018-09-26</td>\n",
       "      <td>240.00</td>\n",
       "      <td>240.00</td>\n",
       "      <td>232.50</td>\n",
       "      <td>235.00</td>\n",
       "      <td>234.25</td>\n",
       "      <td>2240909</td>\n",
       "      <td>5248.60</td>\n",
       "    </tr>\n",
       "    <tr>\n",
       "      <th>3</th>\n",
       "      <td>2018-09-25</td>\n",
       "      <td>233.30</td>\n",
       "      <td>236.75</td>\n",
       "      <td>232.00</td>\n",
       "      <td>236.25</td>\n",
       "      <td>236.10</td>\n",
       "      <td>2349368</td>\n",
       "      <td>5503.90</td>\n",
       "    </tr>\n",
       "    <tr>\n",
       "      <th>4</th>\n",
       "      <td>2018-09-24</td>\n",
       "      <td>233.55</td>\n",
       "      <td>239.20</td>\n",
       "      <td>230.75</td>\n",
       "      <td>234.00</td>\n",
       "      <td>233.30</td>\n",
       "      <td>3423509</td>\n",
       "      <td>7999.55</td>\n",
       "    </tr>\n",
       "  </tbody>\n",
       "</table>\n",
       "</div>"
      ],
      "text/plain": [
       "         Date    Open    High     Low    Last   Close  Total Trade Quantity  \\\n",
       "0  2018-09-28  234.05  235.95  230.20  233.50  233.75               3069914   \n",
       "1  2018-09-27  234.55  236.80  231.10  233.80  233.25               5082859   \n",
       "2  2018-09-26  240.00  240.00  232.50  235.00  234.25               2240909   \n",
       "3  2018-09-25  233.30  236.75  232.00  236.25  236.10               2349368   \n",
       "4  2018-09-24  233.55  239.20  230.75  234.00  233.30               3423509   \n",
       "\n",
       "   Turnover (Lacs)  \n",
       "0          7162.35  \n",
       "1         11859.95  \n",
       "2          5248.60  \n",
       "3          5503.90  \n",
       "4          7999.55  "
      ]
     },
     "execution_count": 64,
     "metadata": {},
     "output_type": "execute_result"
    }
   ],
   "source": [
    "url = 'https://raw.githubusercontent.com/mwitiderrick/stockprice/master/NSE-TATAGLOBAL.csv'\n",
    "dataset_train = pd.read_csv(url)\n",
    "training_set = dataset_train.iloc[:, 1:2].values\n",
    "dataset_train.head()"
   ]
  },
  {
   "cell_type": "code",
   "execution_count": 82,
   "metadata": {},
   "outputs": [
    {
     "data": {
      "text/plain": [
       "(2035, 5)"
      ]
     },
     "execution_count": 82,
     "metadata": {},
     "output_type": "execute_result"
    }
   ],
   "source": [
    "from sklearn.preprocessing import MinMaxScaler\n",
    "scaler = MinMaxScaler(feature_range=(0,1))\n",
    "\n",
    "dataset_train = dataset_train[::-1].reset_index()[FEATURES]\n",
    "dataset_train_scaled = scaler.fit_transform(dataset_train)\n",
    "dataset_train_scaled.shape"
   ]
  },
  {
   "cell_type": "code",
   "execution_count": 81,
   "metadata": {},
   "outputs": [],
   "source": [
    "# from sklearn.preprocessing import MinMaxScaler\n",
    "# sc = MinMaxScaler(feature_range=(0,1))\n",
    "# training_set_scaled = sc.fit_transform(training_set)\n",
    "# training_set_scaled"
   ]
  },
  {
   "cell_type": "markdown",
   "metadata": {},
   "source": [
    "Normalize dataset\n",
    "Create Training and Testing dataset"
   ]
  },
  {
   "cell_type": "code",
   "execution_count": 91,
   "metadata": {},
   "outputs": [
    {
     "data": {
      "text/plain": [
       "((1975, 60, 5), (1975,))"
      ]
     },
     "execution_count": 91,
     "metadata": {},
     "output_type": "execute_result"
    }
   ],
   "source": [
    "X_train = []\n",
    "y_train = []\n",
    "for i in range(TIME_SIZE, dataset_train_scaled.shape[0]):\n",
    "    X_train.append(dataset_train_scaled[i-TIME_SIZE:i, ])\n",
    "    y_train.append(dataset_train_scaled[i, 0])\n",
    "X_train, y_train = np.array(X_train), np.array(y_train)\n",
    "\n",
    "X_train.shape, y_train.shape"
   ]
  },
  {
   "cell_type": "code",
   "execution_count": 92,
   "metadata": {},
   "outputs": [],
   "source": [
    "from keras.models import Sequential\n",
    "from keras.layers import LSTM\n",
    "from keras.layers import Dropout\n",
    "from keras.layers import Dense "
   ]
  },
  {
   "cell_type": "code",
   "execution_count": 93,
   "metadata": {},
   "outputs": [
    {
     "name": "stdout",
     "output_type": "stream",
     "text": [
      "Epoch 1/100\n",
      "1975/1975 [==============================] - 3s 2ms/step - loss: 0.0099\n",
      "Epoch 2/100\n",
      "1975/1975 [==============================] - 3s 1ms/step - loss: 0.0025\n",
      "Epoch 3/100\n",
      "1975/1975 [==============================] - 2s 1ms/step - loss: 0.0020\n",
      "Epoch 4/100\n",
      "1975/1975 [==============================] - 3s 1ms/step - loss: 0.0018\n",
      "Epoch 5/100\n",
      "1975/1975 [==============================] - 2s 1ms/step - loss: 0.0017\n",
      "Epoch 6/100\n",
      "1975/1975 [==============================] - 3s 1ms/step - loss: 0.0018\n",
      "Epoch 7/100\n",
      "1975/1975 [==============================] - 2s 1ms/step - loss: 0.0015\n",
      "Epoch 8/100\n",
      "1975/1975 [==============================] - 2s 1ms/step - loss: 0.0016\n",
      "Epoch 9/100\n",
      "1975/1975 [==============================] - 3s 1ms/step - loss: 0.0014\n",
      "Epoch 10/100\n",
      "1975/1975 [==============================] - 2s 1ms/step - loss: 0.0014\n",
      "Epoch 11/100\n",
      "1975/1975 [==============================] - 3s 1ms/step - loss: 0.0015\n",
      "Epoch 12/100\n",
      "1975/1975 [==============================] - 2s 1ms/step - loss: 0.0013\n",
      "Epoch 13/100\n",
      "1975/1975 [==============================] - 2s 1ms/step - loss: 0.0014\n",
      "Epoch 14/100\n",
      "1975/1975 [==============================] - 3s 1ms/step - loss: 0.0013\n",
      "Epoch 15/100\n",
      "1975/1975 [==============================] - 2s 1ms/step - loss: 0.0012\n",
      "Epoch 16/100\n",
      "1975/1975 [==============================] - 3s 1ms/step - loss: 0.0012\n",
      "Epoch 17/100\n",
      "1975/1975 [==============================] - 3s 1ms/step - loss: 0.0011\n",
      "Epoch 18/100\n",
      "1975/1975 [==============================] - 3s 1ms/step - loss: 0.0011\n",
      "Epoch 19/100\n",
      "1975/1975 [==============================] - 3s 1ms/step - loss: 0.0011\n",
      "Epoch 20/100\n",
      "1975/1975 [==============================] - 3s 1ms/step - loss: 0.0010\n",
      "Epoch 21/100\n",
      "1975/1975 [==============================] - 3s 1ms/step - loss: 9.9367e-04\n",
      "Epoch 22/100\n",
      "1975/1975 [==============================] - 3s 1ms/step - loss: 0.0012\n",
      "Epoch 23/100\n",
      "1975/1975 [==============================] - 3s 1ms/step - loss: 0.0010\n",
      "Epoch 24/100\n",
      "1975/1975 [==============================] - 3s 1ms/step - loss: 0.0010\n",
      "Epoch 25/100\n",
      "1975/1975 [==============================] - 3s 1ms/step - loss: 9.2340e-04\n",
      "Epoch 26/100\n",
      "1975/1975 [==============================] - 3s 1ms/step - loss: 8.5034e-04\n",
      "Epoch 27/100\n",
      "1975/1975 [==============================] - 3s 1ms/step - loss: 9.2181e-04\n",
      "Epoch 28/100\n",
      "1975/1975 [==============================] - 2s 1ms/step - loss: 9.7519e-04\n",
      "Epoch 29/100\n",
      "1975/1975 [==============================] - 2s 1ms/step - loss: 8.8499e-04\n",
      "Epoch 30/100\n",
      "1975/1975 [==============================] - 2s 1ms/step - loss: 9.6619e-04\n",
      "Epoch 31/100\n",
      "1975/1975 [==============================] - 3s 1ms/step - loss: 8.8899e-04\n",
      "Epoch 32/100\n",
      "1975/1975 [==============================] - 2s 1ms/step - loss: 8.0753e-04\n",
      "Epoch 33/100\n",
      "1975/1975 [==============================] - 3s 1ms/step - loss: 0.0011\n",
      "Epoch 34/100\n",
      "1975/1975 [==============================] - 3s 1ms/step - loss: 9.2046e-04\n",
      "Epoch 35/100\n",
      "1975/1975 [==============================] - 3s 1ms/step - loss: 8.5385e-04\n",
      "Epoch 36/100\n",
      "1975/1975 [==============================] - 3s 1ms/step - loss: 8.1855e-04\n",
      "Epoch 37/100\n",
      "1975/1975 [==============================] - 3s 1ms/step - loss: 7.8838e-04\n",
      "Epoch 38/100\n",
      "1975/1975 [==============================] - 2s 1ms/step - loss: 8.2870e-04\n",
      "Epoch 39/100\n",
      "1975/1975 [==============================] - 3s 1ms/step - loss: 8.2183e-04\n",
      "Epoch 40/100\n",
      "1975/1975 [==============================] - 3s 1ms/step - loss: 8.4875e-04\n",
      "Epoch 41/100\n",
      "1975/1975 [==============================] - 3s 1ms/step - loss: 7.4935e-04\n",
      "Epoch 42/100\n",
      "1975/1975 [==============================] - 2s 1ms/step - loss: 7.1647e-04\n",
      "Epoch 43/100\n",
      "1975/1975 [==============================] - 3s 1ms/step - loss: 7.5887e-04\n",
      "Epoch 44/100\n",
      "1975/1975 [==============================] - 3s 1ms/step - loss: 6.4726e-04\n",
      "Epoch 45/100\n",
      "1975/1975 [==============================] - 3s 1ms/step - loss: 7.8299e-04\n",
      "Epoch 46/100\n",
      "1975/1975 [==============================] - 3s 1ms/step - loss: 7.0629e-04\n",
      "Epoch 47/100\n",
      "1975/1975 [==============================] - 2s 1ms/step - loss: 6.8761e-04\n",
      "Epoch 48/100\n",
      "1975/1975 [==============================] - 3s 1ms/step - loss: 7.8266e-04\n",
      "Epoch 49/100\n",
      "1975/1975 [==============================] - 2s 1ms/step - loss: 6.8409e-04\n",
      "Epoch 50/100\n",
      "1975/1975 [==============================] - 2s 1ms/step - loss: 6.8056e-04\n",
      "Epoch 51/100\n",
      "1975/1975 [==============================] - 3s 1ms/step - loss: 6.5574e-04\n",
      "Epoch 52/100\n",
      "1975/1975 [==============================] - 3s 1ms/step - loss: 6.0631e-04\n",
      "Epoch 53/100\n",
      "1975/1975 [==============================] - 3s 1ms/step - loss: 6.2761e-04\n",
      "Epoch 54/100\n",
      "1975/1975 [==============================] - 3s 1ms/step - loss: 7.0380e-04\n",
      "Epoch 55/100\n",
      "1975/1975 [==============================] - 3s 1ms/step - loss: 5.9443e-04\n",
      "Epoch 56/100\n",
      "1975/1975 [==============================] - 3s 1ms/step - loss: 6.5238e-04\n",
      "Epoch 57/100\n",
      "1975/1975 [==============================] - 3s 1ms/step - loss: 5.3920e-04\n",
      "Epoch 58/100\n",
      "1975/1975 [==============================] - 3s 1ms/step - loss: 6.2259e-04\n",
      "Epoch 59/100\n",
      "1975/1975 [==============================] - 2s 1ms/step - loss: 5.8081e-04\n",
      "Epoch 60/100\n",
      "1975/1975 [==============================] - 3s 1ms/step - loss: 5.9632e-04\n",
      "Epoch 61/100\n",
      "1975/1975 [==============================] - 3s 1ms/step - loss: 5.2918e-04\n",
      "Epoch 62/100\n",
      "1975/1975 [==============================] - 3s 1ms/step - loss: 6.8702e-04\n",
      "Epoch 63/100\n",
      "1975/1975 [==============================] - 3s 1ms/step - loss: 5.9643e-04\n",
      "Epoch 64/100\n",
      "1975/1975 [==============================] - 3s 1ms/step - loss: 6.6546e-04\n",
      "Epoch 65/100\n",
      "1975/1975 [==============================] - 3s 1ms/step - loss: 5.9873e-04\n",
      "Epoch 66/100\n",
      "1975/1975 [==============================] - 3s 1ms/step - loss: 5.9291e-04\n",
      "Epoch 67/100\n",
      "1975/1975 [==============================] - 3s 1ms/step - loss: 5.8596e-04\n",
      "Epoch 68/100\n",
      "1975/1975 [==============================] - 3s 1ms/step - loss: 5.3764e-04\n",
      "Epoch 69/100\n",
      "1975/1975 [==============================] - 3s 1ms/step - loss: 6.6760e-04\n",
      "Epoch 70/100\n",
      "1975/1975 [==============================] - 3s 1ms/step - loss: 6.1747e-04\n",
      "Epoch 71/100\n",
      "1975/1975 [==============================] - 3s 1ms/step - loss: 5.4427e-04\n",
      "Epoch 72/100\n",
      "1975/1975 [==============================] - 2s 1ms/step - loss: 6.1770e-04\n",
      "Epoch 73/100\n",
      "1975/1975 [==============================] - 2s 1ms/step - loss: 5.9399e-04\n",
      "Epoch 74/100\n",
      "1975/1975 [==============================] - 3s 1ms/step - loss: 6.4255e-04\n",
      "Epoch 75/100\n",
      "1975/1975 [==============================] - 3s 1ms/step - loss: 5.8278e-04\n",
      "Epoch 76/100\n",
      "1975/1975 [==============================] - 3s 1ms/step - loss: 5.6110e-04\n",
      "Epoch 77/100\n",
      "1975/1975 [==============================] - 3s 1ms/step - loss: 6.1558e-04\n",
      "Epoch 78/100\n",
      "1975/1975 [==============================] - 3s 1ms/step - loss: 5.0164e-04\n",
      "Epoch 79/100\n",
      "1975/1975 [==============================] - 3s 1ms/step - loss: 5.3309e-04\n",
      "Epoch 80/100\n",
      "1975/1975 [==============================] - 3s 1ms/step - loss: 5.5891e-04\n",
      "Epoch 81/100\n",
      "1975/1975 [==============================] - 3s 1ms/step - loss: 5.6488e-04\n",
      "Epoch 82/100\n",
      "1975/1975 [==============================] - 3s 1ms/step - loss: 5.7622e-04\n",
      "Epoch 83/100\n",
      "1975/1975 [==============================] - 3s 1ms/step - loss: 5.4371e-04\n",
      "Epoch 84/100\n",
      "1975/1975 [==============================] - 2s 1ms/step - loss: 5.2432e-04\n",
      "Epoch 85/100\n",
      "1975/1975 [==============================] - 2s 1ms/step - loss: 6.8052e-04\n",
      "Epoch 86/100\n",
      "1975/1975 [==============================] - 3s 1ms/step - loss: 5.9645e-04\n",
      "Epoch 87/100\n",
      "1975/1975 [==============================] - 2s 1ms/step - loss: 5.8686e-04\n",
      "Epoch 88/100\n",
      "1975/1975 [==============================] - 2s 1ms/step - loss: 5.5241e-04\n",
      "Epoch 89/100\n",
      "1975/1975 [==============================] - 3s 1ms/step - loss: 4.9248e-04\n",
      "Epoch 90/100\n",
      "1975/1975 [==============================] - 3s 1ms/step - loss: 5.9704e-04\n",
      "Epoch 91/100\n",
      "1975/1975 [==============================] - 2s 1ms/step - loss: 5.2560e-04\n",
      "Epoch 92/100\n",
      "1975/1975 [==============================] - 3s 1ms/step - loss: 5.5915e-04\n",
      "Epoch 93/100\n",
      "1975/1975 [==============================] - 3s 1ms/step - loss: 4.9770e-04\n",
      "Epoch 94/100\n"
     ]
    },
    {
     "name": "stdout",
     "output_type": "stream",
     "text": [
      "1975/1975 [==============================] - 3s 1ms/step - loss: 5.2097e-04\n",
      "Epoch 95/100\n",
      "1975/1975 [==============================] - 3s 1ms/step - loss: 5.5290e-04\n",
      "Epoch 96/100\n",
      "1975/1975 [==============================] - 3s 1ms/step - loss: 4.7543e-04\n",
      "Epoch 97/100\n",
      "1975/1975 [==============================] - 3s 1ms/step - loss: 5.9547e-04\n",
      "Epoch 98/100\n",
      "1975/1975 [==============================] - 3s 1ms/step - loss: 5.2683e-04\n",
      "Epoch 99/100\n",
      "1975/1975 [==============================] - 3s 1ms/step - loss: 4.4375e-04\n",
      "Epoch 100/100\n",
      "1975/1975 [==============================] - 3s 1ms/step - loss: 4.8855e-04\n"
     ]
    },
    {
     "data": {
      "text/plain": [
       "<keras.callbacks.callbacks.History at 0x7f986851fc88>"
      ]
     },
     "execution_count": 93,
     "metadata": {},
     "output_type": "execute_result"
    }
   ],
   "source": [
    "model = Sequential()\n",
    "\n",
    "model.add(LSTM(units=50,return_sequences=True,input_shape=(TIME_SIZE, FEATURE_SIZE)))\n",
    "model.add(Dropout(0.2))\n",
    "\n",
    "# model.add(LSTM(units=50,return_sequences=True))\n",
    "# model.add(Dropout(0.2))\n",
    "\n",
    "# model.add(LSTM(units=50,return_sequences=True))\n",
    "# model.add(Dropout(0.2))\n",
    "\n",
    "model.add(LSTM(units=50))\n",
    "model.add(Dropout(0.2))\n",
    "\n",
    "model.add(Dense(units=1))\n",
    "\n",
    "model.compile(optimizer='adam',loss='mean_squared_error')\n",
    "\n",
    "model.fit(X_train,y_train,epochs=100,batch_size=32)"
   ]
  },
  {
   "cell_type": "code",
   "execution_count": 97,
   "metadata": {},
   "outputs": [
    {
     "data": {
      "text/plain": [
       "0     234.05\n",
       "1     234.55\n",
       "2     240.00\n",
       "3     233.30\n",
       "4     233.55\n",
       "       ...  \n",
       "11    208.00\n",
       "12    217.00\n",
       "13    223.50\n",
       "14    230.00\n",
       "15    234.55\n",
       "Name: Open, Length: 2051, dtype: float64"
      ]
     },
     "execution_count": 97,
     "metadata": {},
     "output_type": "execute_result"
    }
   ],
   "source": [
    "url = 'https://raw.githubusercontent.com/mwitiderrick/stockprice/master/tatatest.csv'\n",
    "dataset_test = pd.read_csv(url)\n",
    "real_stock_price = dataset_test.iloc[:, 1:2].values\n",
    "pd.concat((dataset_train['Open'], dataset_test['Open']), axis = 0)"
   ]
  },
  {
   "cell_type": "code",
   "execution_count": 59,
   "metadata": {},
   "outputs": [],
   "source": [
    "dataset_total = pd.concat((dataset_train['Open'], dataset_test['Open']), axis = 0)\n",
    "inputs = dataset_total[len(dataset_total) - len(dataset_test) - TIME_SIZE:].values\n",
    "inputs = inputs.reshape(-1,1)\n",
    "inputs = sc.transform(inputs)\n",
    "X_test = []\n",
    "for i in range(TIME_SIZE, 76):\n",
    "    X_test.append(inputs[i-TIME_SIZE:i, 0])\n",
    "X_test = np.array(X_test)\n",
    "X_test = np.reshape(X_test, (X_test.shape[0], X_test.shape[1], 1))\n",
    "predicted_stock_price = model.predict(X_test)\n",
    "predicted_stock_price = sc.inverse_transform(predicted_stock_price)"
   ]
  },
  {
   "cell_type": "code",
   "execution_count": 60,
   "metadata": {},
   "outputs": [
    {
     "data": {
      "image/png": "[encoded data removed]",
      "text/plain": [
       "<Figure size 432x288 with 1 Axes>"
      ]
     },
     "metadata": {
      "needs_background": "light"
     },
     "output_type": "display_data"
    }
   ],
   "source": [
    "plt.plot(real_stock_price, color = 'black', label = 'TATA Stock Price')\n",
    "plt.plot(predicted_stock_price, color = 'green', label = 'Predicted TATA Stock Price')\n",
    "plt.title('TATA Stock Price Prediction')\n",
    "plt.xlabel('Time')\n",
    "plt.ylabel('TATA Stock Price')\n",
    "plt.legend()\n",
    "plt.show()"
   ]
  },
  {
   "cell_type": "code",
   "execution_count": 62,
   "metadata": {},
   "outputs": [
    {
     "data": {
      "text/plain": [
       "60"
      ]
     },
     "execution_count": 62,
     "metadata": {},
     "output_type": "execute_result"
    }
   ],
   "source": [
    "X_train.shape[1]"
   ]
  },
  {
   "cell_type": "code",
   "execution_count": null,
   "metadata": {},
   "outputs": [],
   "source": []
  }
 ],
 "metadata": {
  "kernelspec": {
   "display_name": "Python 3",
   "language": "python",
   "name": "python3"
  },
  "language_info": {
   "codemirror_mode": {
    "name": "ipython",
    "version": 3
   },
   "file_extension": ".py",
   "mimetype": "text/x-python",
   "name": "python",
   "nbconvert_exporter": "python",
   "pygments_lexer": "ipython3",
   "version": "3.6.10"
  }
 },
 "nbformat": 4,
 "nbformat_minor": 4
}
